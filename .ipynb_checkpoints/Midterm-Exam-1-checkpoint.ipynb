{
 "cells": [
  {
   "cell_type": "markdown",
   "id": "2eb64c3e-d51a-4e32-a30b-725a04f5c5c1",
   "metadata": {},
   "source": [
    "# Midterm Exam #1: Phase Transitions\n",
    "\n",
    "In class, we motivated why a spring-mass system, or a harmonic oscillator, is so often the focus of study in physics. To name a few, it helps use to understand:\n",
    "\n",
    "1. oscillatory motion;\n",
    "2. stable orbits;\n",
    "3. wave phenomena;\n",
    "4. and, the behavior of systems near equilibrium.\n",
    "\n",
    "In this midterm exam, you will explore a (nonlinear) oscillator model, in, very likely, a different way than you have in the past: when the spring constant becomes negative. When this happens we will need to include higher-order terms in our description of the energy, otherwise the mass will accelerate off to infinity.\n",
    "\n",
    "This model is a model for a broad class of phase transitions, and is used in the [***Landau theory of phase transitions***](https://en.wikipedia.org/wiki/Landau_theory).\n",
    "\n",
    "Let's start by defining the model.\n"
   ]
  },
  {
   "cell_type": "markdown",
   "id": "7da9722a-2105-4eeb-954c-cff454ec6c1e",
   "metadata": {},
   "source": [
    "## The basic model\n",
    "\n",
    "We can use the following minimal model to describe our system.\n",
    "\n",
    "$$ U = \\frac{1}{2} K Q^2 + \\frac{1}{4} D Q^4 $$\n",
    "\n",
    "where $D>0$ and $K$ can be either positive, zero, or negative.\n",
    "\n",
    "\n"
   ]
  },
  {
   "cell_type": "markdown",
   "id": "98f2fb6d-e382-4eb0-a27a-caf2b2a69ee1",
   "metadata": {},
   "source": [
    "## Connection to symmetry\n",
    "\n",
    "The model has broad implications in the study of physical phenomena which can be connected to the symmetry table we derived in class. As a reminder, here is that table:\n",
    "\n",
    "|               |        | Identity  | Vertical Mirror/Inversion | Horizontal Mirror | 180-degree Rotation |                         |\n",
    "|---------------|--------|-----------|--------------------------|-------------------|----------------------|-------------------------|\n",
    "| Object        | Symbol | $E$       | $m_z$                    | $m_y$             | $C_{2y}$             | Example                 |\n",
    "| Scalar        | $N$  | 1         | 1                        | 1                 | 1                    | $\\vec{c} \\cdot \\vec{c}$  |\n",
    "| Polar Vector  | $P$  | 1         | -1                       | 1                 | -1                   | $\\vec{c}$               |\n",
    "| Axial Vector  | $G$  | 1         | 1                        | -1                | -1                   | $\\vec{a} \\times \\vec{b}$ |\n",
    "| Pseudoscalar  | $C$  | 1         | -1                       | -1                | 1                    | $(\\vec{a} \\times \\vec{b}) \\cdot \\vec{c}$ |\n",
    "\n",
    "The symbols above follow [Hlinka](https://journals.aps.org/prl/abstract/10.1103/PhysRevLett.113.165502). \n",
    "\n"
   ]
  },
  {
   "cell_type": "markdown",
   "id": "5fe8f6a7-2bfb-419d-9519-1218d4d380e5",
   "metadata": {
    "jp-MarkdownHeadingCollapsed": true
   },
   "source": [
    "## Broad reaching implications\n",
    "\n",
    "With some minor adjustments, our model can describe many physical phenomena. A short list of examples from various areas are listed below:\n",
    "\n",
    "1. **Thermodynamics and Fluid Dynamics.** If two balloons are connected to a valve and inflated together in stages, but are able to exchange air through some patent connection, they will initially inflate together (provided the balloons are similar enough). If we inflate the balloons so they are stretched beyond their linear elastic regime, one of the balloons will empty into the other. This is an example of ***spontaneous symmetry breaking***. The system starts symmetric, with the left and right balloons inflating approximately in unison. Once we reach a threshold in pressure in the balloons, one of the balloons will take up all of the slack and the other will be empty. Since it is easy for us to track or measure, we could use the difference in the volume of the two balloons (i.e. $\\epsilon = \\left(V_{right}-V_{left}\\right)/V_{total}$ as a way to track this behavior. Looking at our energy equation, this means that $Q=\\epsilon$. With this choice, $K$ represents the stiffness or elasticity of the rubber in the balloon. The difference between the two volumes, $\\epsilon$ can be represented by a polar vector, connecting to our discussion of symmetry in one dimension. This is because the inversion operation and the 180-degree rotation switch the two balloons, but the other mirror leaves them unchanged.\n",
    "2. **Mechanics.** If we take a thin cylindrical beam oriented vertically between the floor and a piston we can see that it has rotational symmetry. If we engage the piston, the beam will be under pressure and eventually, after some threshold is reached, the beam will bow to the left, or right, or front, or back... Again, this problem can be mapped onto our spring-mass model, by taking $Q$ to be the deviation of the beam from midline, and $K$ as some description of the beam's elasticity. If we look at our initial configuration, we have all of the symmetries present (vertical mirror, horizontal mirror, 180-degree rotation) in our symmetry table. Once the beam bows, we lose the horizontal mirror and the 180-degree rotation symmetries. That means that this situation can be described by an axial vector.\n",
    "3. **Ferromagnetism.** Many materials, when cooled below a critical temperature become magnetic (called the *Curie temperature*). For example, iron (Fe), where we get the *ferro* prefix from, has a Curie temperature of between 1000 K and 1600 K. This behavior is due to the collective orientation of the electron spins in iron. In our simple model, $Q$ would represent the magnetization. When the temperature goes below the Curie temperature, the parameter $K$ becomes negative.\n",
    "4. **Superconductivity** Here $Q$ would need to be complex to represent the density and global quantum mechanical phase of the superconductor.\n",
    "5. **Higgs mechanism.** Here $Q$ describes the breaking of the electroweak symmetries.\n",
    "6. **Quantum Chromodynamics.** Chiral symmetry breaking in quarks.\n",
    "7. **Galaxy Formation.** In the early universe, matter is thought to have been uniformly distributed. Small deviations are thought to have led to galaxy formation where matter started to clump together. In this case, $Q$ would be the deviation of the density of matter from the average value.\n",
    "8. **Crystallization.** The transition from a liquid to a crystalline solid is very similar to galaxy formation.\n",
    "9. **Biology/Biophysics.** Many biological systems exhibit chirality/handedness at various scales. This preference for one handedness over another can be described by our model.\n",
    "\n"
   ]
  },
  {
   "cell_type": "markdown",
   "id": "b108ac5d-1193-41a8-9baa-794b3c03ffe2",
   "metadata": {},
   "source": [
    "## Complete the following questions in the attached `Jupyter Notebook`. Use code cells to complete the plotting and any other computational work. Use the `Markdown` cells to answer the conceptual questions. Use `Latex` for equations.\n",
    "\n",
    "### Problem 1 (20 points)\n",
    "\n",
    "1. Create an interactive plot with `matplotlib` and `ipywidgets` to show what happens when $K$ becomes negative. Label your axes and make your plot clear and aesthetically pleasing. Your finished plot should compare $K>0$ and $K<0$ to illustrate your findings.\n",
    "\n",
    "2. With the insights drawn from your plot, find an expression for the amplitude of $Q$ as a function of $K$ and $D$. \n",
    "\n",
    "3. Assume that the effective mass of the coordinate $Q$ is $m$. Find an expression for the frequency of the oscillator for $K>0$ and $K<0$.\n",
    "\n"
   ]
  },
  {
   "cell_type": "code",
   "execution_count": 5,
   "id": "ef8f9860-a1b5-4c23-b848-2e0bb10563b7",
   "metadata": {},
   "outputs": [
    {
     "data": {
      "image/png": "[encoded data removed]",
      "text/plain": [
       "<Figure size 700x700 with 1 Axes>"
      ]
     },
     "metadata": {},
     "output_type": "display_data"
    },
    {
     "data": {
      "application/vnd.jupyter.widget-view+json": {
       "model_id": "ca3e522d059b4927b92345e6d32e2643",
       "version_major": 2,
       "version_minor": 0
      },
      "text/plain": [
       "interactive(children=(FloatSlider(value=1.0, description='K', max=10.0, min=-10.0, step=1.0), IntSlider(value=…"
      ]
     },
     "metadata": {},
     "output_type": "display_data"
    },
    {
     "data": {
      "text/plain": [
       "<function __main__.plot1(K=1, D=1, Q=1, levels=10)>"
      ]
     },
     "execution_count": 5,
     "metadata": {},
     "output_type": "execute_result"
    }
   ],
   "source": [
    "import numpy as np\n",
    "import matplotlib.pyplot as plt\n",
    "from ipywidgets import interact, FloatSlider, IntSlider\n",
    "\n",
    "#assumption: K, D, Q variables of U\n",
    "\n",
    "def plot1(K=1, D=1, Q=1, levels=10):\n",
    "\n",
    "    #define space\n",
    "    K = np.linspace(-10, 10, 20)\n",
    "    D = np.linspace(1, 10, 20)\n",
    "    Q = np.linspace(-10, 10, 20)\n",
    "    Xk, Yd = np.meshgrid(K, D)\n",
    "\n",
    "    U = 0.5 * Xk * Q**2 + 0.25 * Yd * Q**4\n",
    "\n",
    "    plt.figure(figsize=(7, 7))\n",
    "    plt.contourf(Xk, Yd, U)\n",
    "    plt.xlabel(\"K\")\n",
    "    plt.ylabel(\"D\")\n",
    "    plt.title(\"$0.5*K*Q^{2}+0.25*D*Q^{4}$\")\n",
    "    plt.show()\n",
    "\n",
    "    \n",
    "\n",
    "plot1(1, 1, 1, levels=10)\n",
    "\n",
    "interact(plot1,\n",
    "        K=FloatSlider(min=-10, max=10, step=1, value=1, description=\"K\")\n",
    ")"
   ]
  },
  {
   "cell_type": "markdown",
   "id": "b207c8f0-353f-4919-a488-a6a7338b7dc9",
   "metadata": {},
   "source": [
    "### Problem 2 (20 points)\n",
    "\n",
    "Let's expand the model to include two degrees of freedom.\n",
    "\n",
    "$$ U = \\frac{1}{2} K_1 Q_1^2 + \\frac{1}{2} K_2 Q_2^2 + C Q_1^2 Q_2 + \\frac{1}{4} D_1 Q_1^4 + \\frac{1}{4} D_2 Q_2^4 + \\frac{1}{2} D_{12} Q_1^2 Q_2^2 $$\n",
    "\n",
    "Take all coefficients to be positive to start.\n",
    "\n",
    "1. Create an interactive contour plot of the energy. Label your axes and make your plot clear and aesthetically pleasing. Explore what happens when ***either*** $K_1$ or $K_2$ becomes negative.\n",
    "\n",
    "2. When $K_1$ becomes negative what happens to $Q_1$, and what happens to $Q_2$. Explain.\n",
    "\n",
    "3. When $K_2$ becomes negative what happens to $Q_1$, and what happens to $Q_2$. Explain.\n",
    "\n",
    "4. What changes above if $C$ is negative?\n"
   ]
  },
  {
   "cell_type": "code",
   "execution_count": null,
   "id": "696f6519-cc9e-4c69-b328-fec0d7e8324e",
   "metadata": {},
   "outputs": [],
   "source": []
  },
  {
   "cell_type": "markdown",
   "id": "fa7afe93-fe7d-4a99-97cd-490c2a53ea84",
   "metadata": {},
   "source": [
    "### Problem 3 (10 points)\n",
    "\n",
    "1. Use the symmetry table to explain which degrees of freedom ($N$, $P$, $G$, and $C$) can be described by **Problem 1**.\n",
    "2. Use the symmetry table to explain which degrees of freedom ($N$, $P$, $G$, and $C$) can be coupled to each other as described in the model of **Problem 2**.\n",
    "3. Is there a way to have a third-order term $Q_1 Q_2 Q_3$? If so, which degrees of freedom allow for this and why? It not, why not?\n"
   ]
  },
  {
   "cell_type": "code",
   "execution_count": null,
   "id": "4bf64b88-a7b4-4cec-ab26-90a1c355efbc",
   "metadata": {},
   "outputs": [],
   "source": []
  }
 ],
 "metadata": {
  "kernelspec": {
   "display_name": "Python 3 (ipykernel)",
   "language": "python",
   "name": "python3"
  },
  "language_info": {
   "codemirror_mode": {
    "name": "ipython",
    "version": 3
   },
   "file_extension": ".py",
   "mimetype": "text/x-python",
   "name": "python",
   "nbconvert_exporter": "python",
   "pygments_lexer": "ipython3",
   "version": "3.9.19"
  }
 },
 "nbformat": 4,
 "nbformat_minor": 5
}
